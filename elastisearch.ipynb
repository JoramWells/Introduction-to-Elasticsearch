{
 "cells": [
  {
   "cell_type": "code",
   "execution_count": 4,
   "source": [
    "from elasticsearch import Elasticsearch\r\n",
    "import ujson as json"
   ],
   "outputs": [],
   "metadata": {}
  },
  {
   "cell_type": "markdown",
   "source": [
    "## Create elastisearch instance"
   ],
   "metadata": {}
  },
  {
   "cell_type": "code",
   "execution_count": 5,
   "source": [
    "es=Elasticsearch(HOST='http://localhost',port='9200')\r\n",
    "es = Elasticsearch()"
   ],
   "outputs": [],
   "metadata": {}
  },
  {
   "cell_type": "code",
   "execution_count": 7,
   "source": [
    "#load json  as Document into elastisearch\r\n",
    "# create an index, news_review of the loaded documnet\r\n",
    "\r\n",
    "with open(\"News_Category_Dataset_v2.ndjson\") as f:\r\n",
    "    for i,line in enumerate(f):\r\n",
    "        if i > 1000:\r\n",
    "            break\r\n",
    "        onres = es.index(index=\"news_review\", body=line)\r\n",
    "f.close()"
   ],
   "outputs": [
    {
     "output_type": "stream",
     "name": "stderr",
     "text": [
      "C:\\Users\\Lovevick\\AppData\\Local\\Programs\\Python\\Python39\\lib\\site-packages\\elasticsearch\\connection\\base.py:208: ElasticsearchWarning: Elasticsearch built-in security features are not enabled. Without authentication, your cluster could be accessible to anyone. See https://www.elastic.co/guide/en/elasticsearch/reference/7.14/security-minimal-setup.html to enable security.\n",
      "  warnings.warn(message, category=ElasticsearchWarning)\n"
     ]
    }
   ],
   "metadata": {}
  },
  {
   "cell_type": "code",
   "execution_count": 8,
   "source": [
    "# Deleting index\r\n",
    "# es.indices.delete(index=\"news_review\")\r\n",
    "\r\n",
    "index = \"news_review\"\r\n",
    "\r\n",
    "# check if the created index has successfully been created\r\n",
    "es.indices.exists(index=index)\r\n"
   ],
   "outputs": [
    {
     "output_type": "execute_result",
     "data": {
      "text/plain": [
       "{'acknowledged': True}"
      ]
     },
     "metadata": {},
     "execution_count": 8
    }
   ],
   "metadata": {}
  },
  {
   "cell_type": "code",
   "execution_count": null,
   "source": [
    "# Getting posts published within a given time range\r\n",
    "body = {\r\n",
    "    \"query\":{\r\n",
    "        \"range\":{\r\n",
    "            \"date\":{\r\n",
    "                \"gte\":\"2017-07-02\",\r\n",
    "                \"lte\":\"2017-10-02\"\r\n",
    "            }\r\n",
    "        }\r\n",
    "    }\r\n",
    "}\r\n",
    "res = es.search(index=index, body=body)\r\n",
    "print(res)"
   ],
   "outputs": [],
   "metadata": {}
  },
  {
   "cell_type": "code",
   "execution_count": null,
   "source": [
    "# column name is the name of the specific column present in the document\r\n",
    "# category name signifies the specific category searched by a user\r\n",
    "\r\n",
    "column_name = \"category\"\r\n",
    "category_name = \"ENTERTAINMENT\"\r\n",
    "body = {\r\n",
    "    \"query\":{\r\n",
    "        \"match\":{\r\n",
    "            column_name:category_name\r\n",
    "        }\r\n",
    "    }\r\n",
    "}\r\n",
    "res = es.search(index=index, body=body)\r\n",
    "\r\n",
    "for i in range(len(res[\"hits\"][\"hits\"])):\r\n",
    "    print(res[\"hits\"][\"hits\"][i][\"_source\"])\r\n",
    "    # print(len(res))\r\n"
   ],
   "outputs": [],
   "metadata": {}
  },
  {
   "cell_type": "code",
   "execution_count": null,
   "source": [
    "# Specify the body parameter values.\r\n",
    "# This code is an illustration of query and search technique\r\n",
    "# The query specifies that the response should be matched with the category field of the document and return the headline field\r\n",
    "column_name = [\"category\",\"headline\"]\r\n",
    "category_name = \"CRIME\"\r\n",
    "aggregation_name = \"crime_scenes\"\r\n",
    "\r\n",
    "body = {\r\n",
    "    \"query\":{\r\n",
    "        \"match\":{\r\n",
    "            column_name[0]:category_name\r\n",
    "        }\r\n",
    "    },\r\n",
    "    \"aggregations\":{\r\n",
    "        aggregation_name:{\r\n",
    "            \"significant_text\":{\r\n",
    "                \"field\":column_name[1]\r\n",
    "            }\r\n",
    "        }\r\n",
    "    }\r\n",
    "}\r\n",
    "res = es.search(index=index, body=body)\r\n",
    "res[\"hits\"][\"hits\"][0][\"_source\"]"
   ],
   "outputs": [],
   "metadata": {}
  },
  {
   "cell_type": "code",
   "execution_count": null,
   "source": [
    "# This is a multi-phrase operation.\r\n",
    "# It finds the relevant search of the specified column according to the corollary of the specified search query\r\n",
    "column_name = \"headline\"\r\n",
    "search_phrase = \"Mass shootings\"\r\n",
    "body = {\r\n",
    "    \"query\":{\r\n",
    "        \"match_phrase\":{\r\n",
    "            column_name:{\r\n",
    "                \"query\":search_phrase\r\n",
    "            }\r\n",
    "        }\r\n",
    "    }\r\n",
    "}\r\n",
    "res = es.search(index=index, body=body)\r\n",
    "\r\n",
    "for i in range(len(res[\"hits\"][\"hits\"])):\r\n",
    "    print(res[\"hits\"][\"hits\"][i][\"_source\"])"
   ],
   "outputs": [],
   "metadata": {}
  },
  {
   "cell_type": "code",
   "execution_count": null,
   "source": [
    "# performing a multi-search query\r\n",
    "# We need to find relevant searches with the phrase Nicky Jam, a musician\r\n",
    "# The fields to be searched are an array representation\r\n",
    "# per-field boosting signified by the caret symbol ^ illustrates that the given column should be of high relevance\r\n",
    "\r\n",
    "\r\n",
    "search_phrase = \"Nicky Jam\"\r\n",
    "search_fields = [\"headline^2\",\"short_description\"]\r\n",
    "body = {\r\n",
    "    \"query\":{\r\n",
    "        \"multi_match\":{\r\n",
    "            \"query\":search_phrase,\r\n",
    "            \"fields\":search_fields\r\n",
    "        }\r\n",
    "    }\r\n",
    "}\r\n",
    "res = es.search(index=index, body=body)\r\n",
    "print(res)"
   ],
   "outputs": [],
   "metadata": {}
  }
 ],
 "metadata": {
  "orig_nbformat": 4,
  "language_info": {
   "name": "python",
   "version": "3.9.4",
   "mimetype": "text/x-python",
   "codemirror_mode": {
    "name": "ipython",
    "version": 3
   },
   "pygments_lexer": "ipython3",
   "nbconvert_exporter": "python",
   "file_extension": ".py"
  },
  "kernelspec": {
   "name": "python3",
   "display_name": "Python 3.9.4 64-bit"
  },
  "interpreter": {
   "hash": "2c9959bdee8d0e3902b063008892e9bd60202adb97d3126798efbc6d73d16cc0"
  }
 },
 "nbformat": 4,
 "nbformat_minor": 2
}